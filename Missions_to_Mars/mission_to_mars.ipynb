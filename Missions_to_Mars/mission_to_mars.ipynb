{
 "cells": [
  {
   "cell_type": "code",
   "execution_count": 1,
   "metadata": {
    "scrolled": true
   },
   "outputs": [],
   "source": [
    "# downloading dependencies\n",
    "from bs4 import BeautifulSoup as bs\n",
    "import requests\n",
    "from splinter import Browser\n",
    "import pandas as pd\n",
    "executable_path = {'executable_path':'chromedriver.exe'}\n",
    "browser = Browser('chrome', **executable_path)"
   ]
  },
  {
   "cell_type": "code",
   "execution_count": 2,
   "metadata": {},
   "outputs": [],
   "source": [
    "# setting the news_url and rigging up both requests and beautifulsoup\n",
    "news_url = 'https://mars.nasa.gov/news/'\n",
    "news_response = requests.get(news_url)\n",
    "soup = bs(news_response.text, 'lxml')"
   ]
  },
  {
   "cell_type": "code",
   "execution_count": 3,
   "metadata": {
    "scrolled": false
   },
   "outputs": [
    {
     "name": "stdout",
     "output_type": "stream",
     "text": [
      "\n",
      "\n",
      "Virginia Middle School Student Earns Honor of Naming NASA's Next Mars Rover\n",
      "\n",
      "\n",
      "\n",
      "NASA chose a seventh-grader from Virginia as winner of the agency's \"Name the Rover\" essay contest. Alexander Mather's entry for \"Perseverance\" was voted tops among 28,000 entries. \n",
      "\n"
     ]
    }
   ],
   "source": [
    "# getting the title from the appropriate div and class\n",
    "news_title = soup.find('div', class_ = 'content_title').text\n",
    "print(news_title)\n",
    "# getting the first paragraph information from the appropriate div and class\n",
    "news_p = soup.find('div', class_ = 'rollover_description_inner').text\n",
    "print(news_p)"
   ]
  },
  {
   "cell_type": "code",
   "execution_count": 4,
   "metadata": {},
   "outputs": [
    {
     "name": "stderr",
     "output_type": "stream",
     "text": [
      "C:\\Users\\mildl\\Anaconda2\\envs\\PythonData\\lib\\site-packages\\splinter\\driver\\webdriver\\__init__.py:520: FutureWarning: browser.find_link_by_partial_href is deprecated. Use browser.links.find_by_partial_href instead.\n",
      "  FutureWarning,\n"
     ]
    }
   ],
   "source": [
    "# loading the image site's url\n",
    "image_site_url = 'https://www.jpl.nasa.gov/spaceimages/?search=&category=Mars'\n",
    "\n",
    "# visiting the site via splinter\n",
    "browser.visit(image_site_url)\n",
    "\n",
    "# clicking through the site via splinter to get to the large image\n",
    "browser.click_link_by_id('full_image')\n",
    "browser.click_link_by_partial_href('details')\n"
   ]
  },
  {
   "cell_type": "code",
   "execution_count": 5,
   "metadata": {},
   "outputs": [
    {
     "name": "stdout",
     "output_type": "stream",
     "text": [
      "https://www.jpl.nasa.gov/spaceimages/images/largesize/PIA18791_hires.jpg\n"
     ]
    }
   ],
   "source": [
    "# finally getting to the large image via splinter\n",
    "browser.click_link_by_partial_href('largesize')\n",
    "\n",
    "# saving the url to f_image_url\n",
    "featured_image_url = browser.url\n",
    "\n",
    "print(featured_image_url)"
   ]
  },
  {
   "cell_type": "code",
   "execution_count": 6,
   "metadata": {
    "scrolled": true
   },
   "outputs": [
    {
     "name": "stdout",
     "output_type": "stream",
     "text": [
      "InSight sol 441 (2020-02-22) low -95.1ºC (-139.1ºF) high -13.5ºC (7.7ºF)\n",
      "winds from the SSE at 6.2 m/s (13.8 mph) gusting to 21.0 m/s (47.0 mph)\n",
      "pressure at 6.30 hPapic.twitter.com/ztf0TqK14M\n"
     ]
    }
   ],
   "source": [
    "# loading the twitter page for martian weather and rigging up some beautiful soup\n",
    "mars_weather_url ='https://twitter.com/marswxreport?lang=en'\n",
    "weather_response = requests.get(mars_weather_url)\n",
    "w_soup = bs(weather_response.text, 'lxml')\n",
    "\n",
    "# looking for the correct div and class, then pulling the text from the first paragraph within that container/class\n",
    "mars_tweets = w_soup.find('div', class_ = 'stream').find_all(class_ = 'js-stream-item')\n",
    "for tweet in mars_tweets:\n",
    "    mars_text = tweet.find('div', class_ = 'js-tweet-text-container').p.text\n",
    "    if 'InSight sol' in mars_text:\n",
    "        mars_weather = mars_text.strip()\n",
    "print(mars_weather)"
   ]
  },
  {
   "cell_type": "code",
   "execution_count": 7,
   "metadata": {},
   "outputs": [
    {
     "name": "stdout",
     "output_type": "stream",
     "text": [
      "<table border=\"1\" class=\"dataframe\">\n",
      "  <thead>\n",
      "    <tr style=\"text-align: right;\">\n",
      "      <th></th>\n",
      "      <th>Value</th>\n",
      "    </tr>\n",
      "    <tr>\n",
      "      <th>Description</th>\n",
      "      <th></th>\n",
      "    </tr>\n",
      "  </thead>\n",
      "  <tbody>\n",
      "    <tr>\n",
      "      <th>Equatorial Diameter:</th>\n",
      "      <td>6,792 km</td>\n",
      "    </tr>\n",
      "    <tr>\n",
      "      <th>Polar Diameter:</th>\n",
      "      <td>6,752 km</td>\n",
      "    </tr>\n",
      "    <tr>\n",
      "      <th>Mass:</th>\n",
      "      <td>6.39 × 10^23 kg (0.11 Earths)</td>\n",
      "    </tr>\n",
      "    <tr>\n",
      "      <th>Moons:</th>\n",
      "      <td>2 (Phobos &amp; Deimos)</td>\n",
      "    </tr>\n",
      "    <tr>\n",
      "      <th>Orbit Distance:</th>\n",
      "      <td>227,943,824 km (1.38 AU)</td>\n",
      "    </tr>\n",
      "    <tr>\n",
      "      <th>Orbit Period:</th>\n",
      "      <td>687 days (1.9 years)</td>\n",
      "    </tr>\n",
      "    <tr>\n",
      "      <th>Surface Temperature:</th>\n",
      "      <td>-87 to -5 °C</td>\n",
      "    </tr>\n",
      "    <tr>\n",
      "      <th>First Record:</th>\n",
      "      <td>2nd millennium BC</td>\n",
      "    </tr>\n",
      "    <tr>\n",
      "      <th>Recorded By:</th>\n",
      "      <td>Egyptian astronomers</td>\n",
      "    </tr>\n",
      "  </tbody>\n",
      "</table>\n"
     ]
    }
   ],
   "source": [
    "# loading the mars facts url and getting pandas to read the page\n",
    "mars_facts_url = 'https://space-facts.com/mars/'\n",
    "mars_facts_raw = pd.read_html(mars_facts_url)\n",
    "\n",
    "# moving the raw facts into a new variable\n",
    "mars_df = mars_facts_raw[0]\n",
    "\n",
    "# adding column names and setting the index\n",
    "mars_df.columns = ['Description', 'Value']\n",
    "mars_df.set_index('Description', inplace = True)\n",
    "\n",
    "# transforming the table to html and saving that to a variable\n",
    "mars_table_data = mars_df.to_html()\n",
    "print(mars_table_data)"
   ]
  },
  {
   "cell_type": "code",
   "execution_count": 8,
   "metadata": {},
   "outputs": [],
   "source": [
    "# setting up the mars hemisphere urls and visiting the site\n",
    "mars_hemi_url = 'https://astrogeology.usgs.gov/search/results?q=hemisphere+enhanced&k1=target&v1=Mars'\n",
    "base_hemi_url = 'https://astrogeology.usgs.gov/'\n",
    "browser.visit(mars_hemi_url)"
   ]
  },
  {
   "cell_type": "code",
   "execution_count": 9,
   "metadata": {},
   "outputs": [
    {
     "name": "stdout",
     "output_type": "stream",
     "text": [
      "[{'title': 'Cerberus Hemisphere Enhanced', 'img_url': 'http://astropedia.astrogeology.usgs.gov/download/Mars/Viking/cerberus_enhanced.tif/full.jpg'}, {'title': 'Schiaparelli Hemisphere Enhanced', 'img_url': 'http://astropedia.astrogeology.usgs.gov/download/Mars/Viking/schiaparelli_enhanced.tif/full.jpg'}, {'title': 'Syrtis Major Hemisphere Enhanced', 'img_url': 'http://astropedia.astrogeology.usgs.gov/download/Mars/Viking/syrtis_major_enhanced.tif/full.jpg'}, {'title': 'Valles Marineris Hemisphere Enhanced', 'img_url': 'http://astropedia.astrogeology.usgs.gov/download/Mars/Viking/valles_marineris_enhanced.tif/full.jpg'}]\n"
     ]
    }
   ],
   "source": [
    "# making some more beautifulsoup to get the hemisphere information\n",
    "hemi_response = requests.get(mars_hemi_url)\n",
    "h_soup = bs(hemi_response.text, 'lxml')\n",
    "\n",
    "# setting up the hemisphere_image_urls dictionary\n",
    "hemisphere_image_urls = []\n",
    "\n",
    "# getting a list of the image links (products)\n",
    "products = h_soup.find('div', class_ = 'result-list')\n",
    "hemispheres = products.find_all('div', class_ = 'item')\n",
    "\n",
    "# setting up the for loop to pull the information on all four image links\n",
    "for hemisphere in hemispheres:\n",
    "    \n",
    "    # getting the title for each item\n",
    "    title = hemisphere.find('h3').text\n",
    "    \n",
    "    # getting the partial link attached to each item and creating a full link\n",
    "    partial_link = hemisphere.find('a')['href']\n",
    "    image_link = base_hemi_url + partial_link\n",
    "    \n",
    "    # using splinter to go to the link and get the html to add to the beautifulsoup that's a-stewin'\n",
    "    browser.visit(image_link)\n",
    "    hemi_html = browser.html\n",
    "    h_soup_2 = bs(hemi_html, 'lxml')\n",
    "    \n",
    "    # using this new iteration of soup to find the link affiliated with downloads\n",
    "    downloads = h_soup_2.find('div', class_ = 'downloads')\n",
    "    image_url = downloads.find('a')['href']\n",
    "    \n",
    "    # loading the whole, hot mess into the dictionary generated earlier\n",
    "    hemisphere_image_urls.append({'title': title, 'img_url': image_url})\n",
    "\n",
    "print(hemisphere_image_urls)"
   ]
  },
  {
   "cell_type": "code",
   "execution_count": null,
   "metadata": {},
   "outputs": [],
   "source": []
  }
 ],
 "metadata": {
  "kernelspec": {
   "display_name": "Python [conda env:PythonData] *",
   "language": "python",
   "name": "conda-env-PythonData-py"
  },
  "language_info": {
   "codemirror_mode": {
    "name": "ipython",
    "version": 3
   },
   "file_extension": ".py",
   "mimetype": "text/x-python",
   "name": "python",
   "nbconvert_exporter": "python",
   "pygments_lexer": "ipython3",
   "version": "3.6.9"
  }
 },
 "nbformat": 4,
 "nbformat_minor": 2
}
