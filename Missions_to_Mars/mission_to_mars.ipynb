{
 "cells": [
  {
   "cell_type": "code",
   "execution_count": 1,
   "metadata": {
    "scrolled": true
   },
   "outputs": [],
   "source": [
    "# downloading dependencies\n",
    "from bs4 import BeautifulSoup as bs\n",
    "import requests\n",
    "from splinter import Browser\n",
    "import pandas as pd\n",
    "executable_path = {'executable_path':'chromedriver.exe'}\n",
    "browser = Browser('chrome', **executable_path)"
   ]
  },
  {
   "cell_type": "code",
   "execution_count": null,
   "metadata": {},
   "outputs": [],
   "source": [
    "# setting the news_url and rigging up both requests and beautifulsoup\n",
    "news_url = 'https://mars.nasa.gov/news/'\n",
    "news_response = requests.get(news_url)\n",
    "soup = bs(news_response.text, 'lxml')"
   ]
  },
  {
   "cell_type": "code",
   "execution_count": null,
   "metadata": {
    "scrolled": false
   },
   "outputs": [],
   "source": [
    "# getting the title from the appropriate div and class\n",
    "news_title = soup.find('div', class_ = 'content_title').text\n",
    "print(news_title)\n",
    "# getting the first paragraph information from the appropriate div and class\n",
    "news_p = soup.find('div', class_ = 'rollover_description_inner').text\n",
    "print(news_p)"
   ]
  },
  {
   "cell_type": "code",
   "execution_count": null,
   "metadata": {},
   "outputs": [],
   "source": [
    "# loading the image site's url\n",
    "image_site_url = 'https://www.jpl.nasa.gov/spaceimages/?search=&category=Mars'\n",
    "\n",
    "# visiting the site via splinter\n",
    "browser.visit(image_site_url)\n",
    "\n",
    "# clicking through the site via splinter to get to the large image\n",
    "browser.click_link_by_id('full_image')\n",
    "browser.click_link_by_partial_href('details')\n"
   ]
  },
  {
   "cell_type": "code",
   "execution_count": null,
   "metadata": {},
   "outputs": [],
   "source": [
    "# finally getting to the large image via splinter\n",
    "browser.click_link_by_partial_href('largesize')\n",
    "\n",
    "# saving the url to f_image_url\n",
    "featured_image_url = browser.url\n",
    "\n",
    "print(featured_image_url)"
   ]
  },
  {
   "cell_type": "code",
   "execution_count": null,
   "metadata": {
    "scrolled": true
   },
   "outputs": [],
   "source": [
    "# loading the twitter page for martian weather and rigging up some beautiful soup\n",
    "mars_weather_url ='https://twitter.com/marswxreport?lang=en'\n",
    "weather_response = requests.get(mars_weather_url)\n",
    "w_soup = bs(weather_response.text, 'lxml')\n",
    "\n",
    "# looking for the correct div and class, then pulling the text from the first paragraph within that container/class\n",
    "mars_tweets = w_soup.find('div', class_ = 'stream').find_all(class_ = 'js-stream-item')\n",
    "for tweet in mars_tweets:\n",
    "    mars_text = tweet.find('div', class_ = 'js-tweet-text-container').p.text\n",
    "    if 'InSight sol' in mars_text:\n",
    "        mars_weather = mars_text.strip()\n",
    "print(mars_weather)"
   ]
  },
  {
   "cell_type": "code",
   "execution_count": null,
   "metadata": {},
   "outputs": [],
   "source": [
    "# loading the mars facts url and getting pandas to read the page\n",
    "mars_facts_url = 'https://space-facts.com/mars/'\n",
    "mars_facts_raw = pd.read_html(mars_facts_url)\n",
    "\n",
    "# moving the raw facts into a new variable\n",
    "mars_df = mars_facts_raw[0]\n",
    "\n",
    "# adding column names and setting the index\n",
    "mars_df.columns = ['Description', 'Value']\n",
    "mars_df.set_index('Description', inplace = True)\n",
    "\n",
    "# transforming the table to html and saving that to a variable\n",
    "mars_table_data = mars_df.to_html()\n",
    "print(mars_table_data)"
   ]
  },
  {
   "cell_type": "code",
   "execution_count": null,
   "metadata": {},
   "outputs": [],
   "source": [
    "# setting up the mars hemisphere urls and visiting the site\n",
    "mars_hemi_url = 'https://astrogeology.usgs.gov/search/results?q=hemisphere+enhanced&k1=target&v1=Mars'\n",
    "base_hemi_url = 'https://astrogeology.usgs.gov/'\n",
    "browser.visit(mars_hemi_url)"
   ]
  },
  {
   "cell_type": "code",
   "execution_count": null,
   "metadata": {},
   "outputs": [],
   "source": [
    "# making some more beautifulsoup to get the hemisphere information\n",
    "hemi_response = requests.get(mars_hemi_url)\n",
    "h_soup = bs(hemi_response.text, 'lxml')\n",
    "\n",
    "# setting up the hemisphere_image_urls dictionary\n",
    "hemisphere_image_urls = []\n",
    "\n",
    "# getting a list of the image links (products)\n",
    "products = h_soup.find('div', class_ = 'result-list')\n",
    "hemispheres = products.find_all('div', class_ = 'item')\n",
    "\n",
    "# setting up the for loop to pull the information on all four image links\n",
    "for hemisphere in hemispheres:\n",
    "    \n",
    "    # getting the title for each item\n",
    "    title = hemisphere.find('h3').text\n",
    "    \n",
    "    # getting the partial link attached to each item and creating a full link\n",
    "    partial_link = hemisphere.find('a')['href']\n",
    "    image_link = base_hemi_url + partial_link\n",
    "    \n",
    "    # using splinter to go to the link and get the html to add to the beautifulsoup that's a-stewin'\n",
    "    browser.visit(image_link)\n",
    "    hemi_html = browser.html\n",
    "    h_soup_2 = bs(hemi_html, 'lxml')\n",
    "    \n",
    "    # using this new iteration of soup to find the link affiliated with downloads\n",
    "    downloads = h_soup_2.find('div', class_ = 'downloads')\n",
    "    image_url = downloads.find('a')['href']\n",
    "    \n",
    "    # loading the whole, hot mess into the dictionary generated earlier\n",
    "    hemisphere_image_urls.append({'title': title, 'img_url': image_url})\n",
    "\n",
    "print(hemisphere_image_urls)"
   ]
  },
  {
   "cell_type": "code",
   "execution_count": null,
   "metadata": {},
   "outputs": [],
   "source": []
  }
 ],
 "metadata": {
  "kernelspec": {
   "display_name": "Python [conda env:PythonData] *",
   "language": "python",
   "name": "conda-env-PythonData-py"
  },
  "language_info": {
   "codemirror_mode": {
    "name": "ipython",
    "version": 3
   },
   "file_extension": ".py",
   "mimetype": "text/x-python",
   "name": "python",
   "nbconvert_exporter": "python",
   "pygments_lexer": "ipython3",
   "version": "3.6.9"
  }
 },
 "nbformat": 4,
 "nbformat_minor": 2
}
